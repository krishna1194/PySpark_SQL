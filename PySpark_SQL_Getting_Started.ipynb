{
  "nbformat": 4,
  "nbformat_minor": 0,
  "metadata": {
    "colab": {
      "provenance": [],
      "authorship_tag": "ABX9TyN0apQjF5atR9VSZnLXr+Ek",
      "include_colab_link": true
    },
    "kernelspec": {
      "name": "python3",
      "display_name": "Python 3"
    },
    "language_info": {
      "name": "python"
    }
  },
  "cells": [
    {
      "cell_type": "markdown",
      "metadata": {
        "id": "view-in-github",
        "colab_type": "text"
      },
      "source": [
        "<a href=\"https://colab.research.google.com/github/krishna1194/PySpark_SQL/blob/main/PySpark_SQL_Getting_Started.ipynb\" target=\"_parent\"><img src=\"https://colab.research.google.com/assets/colab-badge.svg\" alt=\"Open In Colab\"/></a>"
      ]
    },
    {
      "cell_type": "markdown",
      "source": [
        "# PySpark SQL - Getting Started Notebook\n",
        "\n",
        "This notebook provides an example for installing Spark dependencies and a simple \"getting started\" syntax for PySpark SQL.\n",
        "\n",
        "NOTE: This notebook is designed to be used with Google's Colab notebook and the Python 3 runtime."
      ],
      "metadata": {
        "id": "msa2Oc5BQTby"
      }
    },
    {
      "cell_type": "markdown",
      "source": [
        "## Install Spark Dependencies"
      ],
      "metadata": {
        "id": "iSdDuCF-QYqU"
      }
    },
    {
      "cell_type": "code",
      "execution_count": null,
      "metadata": {
        "id": "Q3dAIDMGQL-U"
      },
      "outputs": [],
      "source": [
        "# Install Spark dependencies\n",
        "!apt-get install openjdk-8-jdk-headless -qq > /dev/null\n",
        "!rm spark-3.2.3-bin-hadoop3.2.tgz\n",
        "!wget --no-cookies --no-check-certificate https://dlcdn.apache.org/spark/spark-3.2.3/spark-3.2.3-bin-hadoop3.2.tgz\n",
        "!tar zxvf spark-3.2.3-bin-hadoop3.2.tgz\n",
        "!pip install -q findspark\n",
        "!pip install pyspark==3.2.3\n",
        "!ls -al | grep spark"
      ]
    },
    {
      "cell_type": "markdown",
      "source": [
        "## Set environment variables within Pyspark"
      ],
      "metadata": {
        "id": "U6z7sW3VQzoa"
      }
    },
    {
      "cell_type": "code",
      "source": [
        "# Set up required environment variables\n",
        "import os\n",
        "os.environ[\"JAVA_HOME\"]  = \"/usr/lib/jvm/java-8-openjdk-amd64\"\n",
        "os.environ[\"SPARK_HOME\"] = \"/content/spark-3.2.3-bin-hadoop3.2\""
      ],
      "metadata": {
        "id": "f60_2S3oQa4E"
      },
      "execution_count": 2,
      "outputs": []
    },
    {
      "cell_type": "markdown",
      "source": [
        "## Download Data"
      ],
      "metadata": {
        "id": "Cd5EFXWLQ47b"
      }
    },
    {
      "cell_type": "code",
      "source": [
        "!wget https://raw.githubusercontent.com/zaratsian/iaa-2023/master/session_02/bikeshare_station_info.csv\n",
        "!wget https://raw.githubusercontent.com/zaratsian/iaa-2023/master/session_02/bikeshare_trips.csv"
      ],
      "metadata": {
        "colab": {
          "base_uri": "https://localhost:8080/"
        },
        "id": "1jsdtvdpQ3AY",
        "outputId": "95e487ea-c853-4331-92f4-c862a53995ed"
      },
      "execution_count": 8,
      "outputs": [
        {
          "output_type": "stream",
          "name": "stdout",
          "text": [
            "--2023-03-12 00:59:44--  https://raw.githubusercontent.com/zaratsian/iaa-2023/master/session_02/bikeshare_station_info.csv\n",
            "Resolving raw.githubusercontent.com (raw.githubusercontent.com)... 185.199.111.133, 185.199.108.133, 185.199.110.133, ...\n",
            "Connecting to raw.githubusercontent.com (raw.githubusercontent.com)|185.199.111.133|:443... connected.\n",
            "HTTP request sent, awaiting response... 200 OK\n",
            "Length: 80415 (79K) [text/plain]\n",
            "Saving to: ‘bikeshare_station_info.csv’\n",
            "\n",
            "\r          bikeshare   0%[                    ]       0  --.-KB/s               \rbikeshare_station_i 100%[===================>]  78.53K  --.-KB/s    in 0.01s   \n",
            "\n",
            "2023-03-12 00:59:44 (6.31 MB/s) - ‘bikeshare_station_info.csv’ saved [80415/80415]\n",
            "\n",
            "--2023-03-12 00:59:44--  https://raw.githubusercontent.com/zaratsian/iaa-2023/master/session_02/bikeshare_trips.csv\n",
            "Resolving raw.githubusercontent.com (raw.githubusercontent.com)... 185.199.111.133, 185.199.108.133, 185.199.109.133, ...\n",
            "Connecting to raw.githubusercontent.com (raw.githubusercontent.com)|185.199.111.133|:443... connected.\n",
            "HTTP request sent, awaiting response... 200 OK\n",
            "Length: 4482620 (4.3M) [text/plain]\n",
            "Saving to: ‘bikeshare_trips.csv’\n",
            "\n",
            "bikeshare_trips.csv 100%[===================>]   4.27M  --.-KB/s    in 0.07s   \n",
            "\n",
            "2023-03-12 00:59:45 (60.0 MB/s) - ‘bikeshare_trips.csv’ saved [4482620/4482620]\n",
            "\n"
          ]
        }
      ]
    },
    {
      "cell_type": "markdown",
      "source": [
        "## Import Python and PySpark Libraries"
      ],
      "metadata": {
        "id": "pJZRuxrfQ9SS"
      }
    },
    {
      "cell_type": "code",
      "source": [
        "import datetime\n",
        "from pyspark import SparkContext\n",
        "from pyspark.sql import SparkSession\n",
        "from pyspark.sql.types import *\n",
        "from pyspark.sql.functions import monotonically_increasing_id, col, expr, when, concat, lit, udf, split\n",
        "from pyspark.ml.linalg import Vectors\n",
        "from pyspark.ml.regression import GBTRegressor, LinearRegression, GeneralizedLinearRegression\n",
        "from pyspark.ml.classification import GBTClassifier\n",
        "from pyspark.ml.feature import VectorIndexer, VectorAssembler, StringIndexer\n",
        "from pyspark.ml.evaluation import RegressionEvaluator\n",
        "from pyspark.ml import Pipeline\n",
        "from pyspark.ml.evaluation import MulticlassClassificationEvaluator"
      ],
      "metadata": {
        "id": "69Qshux3Q7Lj"
      },
      "execution_count": 4,
      "outputs": []
    },
    {
      "cell_type": "markdown",
      "source": [
        "## Initialize Spark Session"
      ],
      "metadata": {
        "id": "BDcRQbz0RRtu"
      }
    },
    {
      "cell_type": "code",
      "source": [
        "spark = SparkSession.builder.appName(\"Bikesharing SparkSQL\").master(\"local[*]\").getOrCreate()"
      ],
      "metadata": {
        "id": "5p7bLlQ2RP1W"
      },
      "execution_count": 5,
      "outputs": []
    },
    {
      "cell_type": "markdown",
      "source": [
        "## Read CSV into Spark"
      ],
      "metadata": {
        "id": "J6UcNHE9RbSd"
      }
    },
    {
      "cell_type": "code",
      "source": [
        "bikeshare_trips = spark.read.load('bikeshare_trips.csv', format=\"csv\", header=True, inferSchema=True)"
      ],
      "metadata": {
        "id": "uT4lMRlqRViD"
      },
      "execution_count": 9,
      "outputs": []
    },
    {
      "cell_type": "code",
      "source": [
        "# Display first few records\n",
        "bikeshare_trips.show(5, truncate=False)"
      ],
      "metadata": {
        "colab": {
          "base_uri": "https://localhost:8080/"
        },
        "id": "9ovKN7olRgSW",
        "outputId": "1deac7e8-46c6-45ba-dd1b-1d61afea3a06"
      },
      "execution_count": 12,
      "outputs": [
        {
          "output_type": "stream",
          "name": "stdout",
          "text": [
            "+--------------------+------------+-----------------------+-----------------------+----------------+-----------------------+--------------------+--------------+-----------+--------+---------------+-------------------+----------------------+-----------------------+--------------------+---------------------+-----------------+-------------+-----------------------+------------------------------+----------------------------+\n",
            "|trip_id             |duration_sec|start_date             |start_station_name     |start_station_id|end_date               |end_station_name    |end_station_id|bike_number|zip_code|subscriber_type|c_subscription_type|start_station_latitude|start_station_longitude|end_station_latitude|end_station_longitude|member_birth_year|member_gender|bike_share_for_all_trip|start_station_geom            |end_station_geom            |\n",
            "+--------------------+------------+-----------------------+-----------------------+----------------+-----------------------+--------------------+--------------+-----------+--------+---------------+-------------------+----------------------+-----------------------+--------------------+---------------------+-----------------+-------------+-----------------------+------------------------------+----------------------------+\n",
            "|27532018040507244800|486         |2018-04-05 07:24:48 UTC|Dolores St at 15th St  |96              |2018-04-05 07:32:55 UTC|Market St at 10th St|58            |2753       |null    |Subscriber     |Subscriber         |37.7662102            |-122.4266136           |37.776619           |-122.417385          |1987             |Male         |No                     |POINT(-122.4266136 37.7662102)|POINT(-122.417385 37.776619)|\n",
            "|12782018040418233700|283         |2018-04-04 18:23:37 UTC|Market St at Dolores St|86              |2018-04-04 18:28:21 UTC|Market St at 10th St|58            |1278       |null    |Subscriber     |Subscriber         |37.7693053            |-122.4268256           |37.776619           |-122.417385          |1980             |Male         |No                     |POINT(-122.4268256 37.7693053)|POINT(-122.417385 37.776619)|\n",
            "|32602018040410205100|402         |2018-04-04 10:20:51 UTC|Church St at Duboce Ave|85              |2018-04-04 10:27:34 UTC|Market St at 10th St|58            |3260       |null    |Subscriber     |Subscriber         |37.7700831            |-122.4291557           |37.776619           |-122.417385          |null             |null         |No                     |POINT(-122.4291557 37.7700831)|POINT(-122.417385 37.776619)|\n",
            "|7062018040410051100 |629         |2018-04-04 10:05:11 UTC|Grove St at Divisadero |53              |2018-04-04 10:15:41 UTC|Market St at 10th St|58            |706        |null    |Customer       |Customer           |37.775946             |-122.4377775           |37.776619           |-122.417385          |null             |null         |No                     |POINT(-122.4377775 37.775946) |POINT(-122.417385 37.776619)|\n",
            "|26132018040409030100|853         |2018-04-04 09:03:01 UTC|1st St at Folsom St    |26              |2018-04-04 09:17:14 UTC|Market St at 10th St|58            |2613       |null    |Subscriber     |Subscriber         |37.78729              |-122.39438             |37.776619           |-122.417385          |1989             |Male         |No                     |POINT(-122.39438 37.78729)    |POINT(-122.417385 37.776619)|\n",
            "+--------------------+------------+-----------------------+-----------------------+----------------+-----------------------+--------------------+--------------+-----------+--------+---------------+-------------------+----------------------+-----------------------+--------------------+---------------------+-----------------+-------------+-----------------------+------------------------------+----------------------------+\n",
            "only showing top 5 rows\n",
            "\n"
          ]
        }
      ]
    },
    {
      "cell_type": "code",
      "source": [
        "# Execute Sample SparkSQL query\n",
        "bikeshare_trips.createOrReplaceTempView(\"bikeshare_trips1\")\n",
        "spark.sql(\"SELECT subscriber_type, count(*) as count FROM bikeshare_trips1 group by subscriber_type order by count desc\").show(truncate=False)"
      ],
      "metadata": {
        "colab": {
          "base_uri": "https://localhost:8080/"
        },
        "id": "Jn1GloPSVX59",
        "outputId": "aa48fc11-e176-420c-84d1-d45c7762a797"
      },
      "execution_count": 13,
      "outputs": [
        {
          "output_type": "stream",
          "name": "stdout",
          "text": [
            "+---------------+-----+\n",
            "|subscriber_type|count|\n",
            "+---------------+-----+\n",
            "|Subscriber     |13685|\n",
            "|Customer       |2315 |\n",
            "+---------------+-----+\n",
            "\n"
          ]
        }
      ]
    },
    {
      "cell_type": "code",
      "source": [],
      "metadata": {
        "id": "WhUAjkHnVm2v"
      },
      "execution_count": null,
      "outputs": []
    }
  ]
}